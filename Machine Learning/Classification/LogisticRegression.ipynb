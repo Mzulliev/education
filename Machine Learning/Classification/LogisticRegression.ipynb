{
 "cells": [
  {
   "cell_type": "markdown",
   "id": "8f662d09-0b9c-454d-996c-1886349635fe",
   "metadata": {
    "jp-MarkdownHeadingCollapsed": true
   },
   "source": [
    "# Логистическая регрессия\n",
    "### Основная идея\n",
    "Логистическая регрессия используется для задач классификации.\n",
    "В отличие от линейной регрессии, которая предсказывает непрерывные значения, лог. регрессия предсказывает *вероятность* принадлежности к классу 1, а затем принимает решение о классе на основе порога (обычно 0.5).\n",
    "\n",
    "*Пример*\n",
    "Предположим, что у нас есть данные о пациентах:\n",
    "- Признаки: возраст, давление.\n",
    "- Целевая переменная: болен (1) или здоров (0).\n",
    "\n",
    "Логистическая регрессия поможет предсказать вероятность болезни на основе признаков и классифицировать пациента как больного или здорового."
   ]
  },
  {
   "cell_type": "markdown",
   "id": "6be36d99-b69a-48d8-8457-c7251f2151dc",
   "metadata": {},
   "source": [
    "## Математическая модель\n",
    "### Линейная комбинация\n",
    "$$\n",
    "z = w_{0} + w_{1}x_{1} + w_{2}x_{2} + ... + w_{k}x_{k} = w^{T}x\n",
    "$$\n",
    "где:\n",
    "- $ x = [1, x_{1}, x_{2}, ..., x_{k}] - вектор признаков (с добавлением 1 для w_{0})$\n",
    "- w = [w_{0}, w_{1}, ..., w_{k}] - вектор параметров\n",
    "### Сигмоидная функция\n",
    "Чтобы получить вероятность, мы пропускаем z через сигмоидную фнкцию:\n",
    "$$ P(y=1|x) = \\sigma(z) = \\frac{1}{1 + e^{-z}} $$\n",
    "- $\\sigma(z) всегда возвращает значение в диапазоне [0, 1], что интерпретируется как вероятность.$\n",
    "- Если $ z → +∞, то \\sigma(z) → 1; если z → -∞, то \\sigma(z) → 0.$\n",
    "Вероятность принадлежности к классу 0:\n",
    "$$ P(y=0|x) = 1 - P(y = 1|x) = 1 - \\sigma(z) $$\n",
    "\n",
    "### Классификация\n",
    "\n",
    "Для классификации выбираем порог (обычно 0.5):\n",
    "- Если $P(y = 1|x) >= 0.5$, предсказываем 1.\n",
    "- Если $P(y = 1|x) < 0.5$, предсказываем 0.\n",
    "Поскольку $\\sigma(z) = 0.5 при z = 0$, это соответсвует правилу:\n",
    "- Если $w^{T}x >= 0$, класс 1.\n",
    "- Если $w^{T}x < 0$, класс 0.\n",
    "### Функция потерь: Логарифмическая потеря (Log Loss)\n",
    "Для логистической регрессии мы не можем использовать MSE, как в линейной регрессии, потому что:\n",
    "\n",
    "Выход модели — вероятность, а не непрерывное значение.\n",
    "MSE не выпукла для сигмоидной функции, что затрудняет оптимизацию.\n",
    "Вместо этого используется логарифмическая потеря (log loss), также известная как кросс-энтропия:\n",
    ".."
   ]
  },
  {
   "cell_type": "code",
   "execution_count": 3,
   "id": "21baa816-a493-468c-b6a4-852bb17be459",
   "metadata": {},
   "outputs": [],
   "source": [
    "import numpy as np\n",
    "import matplotlib.pyplot as plt\n",
    "\n",
    "# Генерация данных\n",
    "np.random.seed(42)\n",
    "n_samples = 100\n",
    "X = np.random.rand(n_samples, 2) # Два признака\n",
    "true_w = np.array([1.5, -2.0]) # Истинные коэффициенты\n",
    "true_w0 = 0.5 # Истинный свободный член\n",
    "\n",
    "# Линейная комбинация + Шум\n",
    "z = true_w0 + X @ true_w + np.random.rand(n_samples) * 0.5\n",
    "probabilities = 1 / (1 + np.exp(-z)) # Сигмоида\n",
    "y = (probabilities >= 0.5).astype(int) # Классы 0 или 1"
   ]
  },
  {
   "cell_type": "code",
   "execution_count": 7,
   "id": "2c1a50ce-4381-4993-b25a-89dbc03e36a8",
   "metadata": {},
   "outputs": [],
   "source": [
    "# Сигмоидная функция\n",
    "def sigmoid(z):\n",
    "    return 1 / (1 + np.exp(-z))"
   ]
  },
  {
   "cell_type": "code",
   "execution_count": 28,
   "id": "b78db0b5-ff18-4768-b825-2a885a7a1cd4",
   "metadata": {},
   "outputs": [],
   "source": [
    "# Логистическая регрессия с градиентным спуском\n",
    "def logistic_regression(X, y, learning_rate=0.01, num_iterations=1000, tol=1e-5):\n",
    "    # Добавляем столбец единиц для w_0\n",
    "    X_with_bias = np.c_[np.ones(X.shape[0]), X]\n",
    "    n = X.shape[0]\n",
    "    w = np.zeros(X_with_bias.shape[1])  # [w_0, w_1, w_2]\n",
    "    losses = []\n",
    "    \n",
    "    for i in range(num_iterations):\n",
    "        # Предсказания (вероятности)\n",
    "        z = X_with_bias @ w\n",
    "        p = sigmoid(z)\n",
    "        \n",
    "        # Градиент\n",
    "        gradient = (1/n) * X_with_bias.T @ (p - y)\n",
    "        \n",
    "        # Обновление параметров\n",
    "        w -= learning_rate * gradient\n",
    "        \n",
    "        # Логарифмическая потеря\n",
    "        loss = -np.mean(y * np.log(p + 1e-10) + (1 - y) * np.log(1 - p + 1e-10))\n",
    "        losses.append(loss)\n",
    "        \n",
    "        # Проверка сходимости\n",
    "        if i > 0 and abs(losses[-1] - losses[-2]) < tol:\n",
    "            print(f\"Сходимость достигнута на итерации {i+1}\")\n",
    "            break\n",
    "        \n",
    "        if (i + 1) % 100 == 0:\n",
    "            print(f\"Итерация {i+1}, Log Loss: {loss:.4f}\")\n",
    "    \n",
    "    return w, losses"
   ]
  },
  {
   "cell_type": "code",
   "execution_count": 29,
   "id": "b945a8f0-2117-442d-a3e1-562632a4e94a",
   "metadata": {},
   "outputs": [
    {
     "name": "stdout",
     "output_type": "stream",
     "text": [
      "Итерация 100, Log Loss: 0.4650\n",
      "Итерация 200, Log Loss: 0.4073\n",
      "Итерация 300, Log Loss: 0.3649\n",
      "Итерация 400, Log Loss: 0.3328\n",
      "Итерация 500, Log Loss: 0.3079\n",
      "Итерация 600, Log Loss: 0.2881\n",
      "Итерация 700, Log Loss: 0.2719\n",
      "Итерация 800, Log Loss: 0.2585\n",
      "Итерация 900, Log Loss: 0.2471\n",
      "Итерация 1000, Log Loss: 0.2374\n"
     ]
    }
   ],
   "source": [
    "# Обучаем модель\n",
    "w, losses = logistic_regression(X, y, learning_rate=0.1, num_iterations=1000)"
   ]
  },
  {
   "cell_type": "code",
   "execution_count": 30,
   "id": "aadb9720-de00-49ba-952c-e70662d34bc9",
   "metadata": {},
   "outputs": [
    {
     "name": "stdout",
     "output_type": "stream",
     "text": [
      "Параметры w_0 = 1.4877, w_1 = 3.8426, w_2 = -3.4309\n"
     ]
    }
   ],
   "source": [
    "# Выводим параметры\n",
    "print(f\"Параметры w_0 = {w[0]:.4f}, w_1 = {w[1]:.4f}, w_2 = {w[2]:.4f}\")"
   ]
  },
  {
   "cell_type": "code",
   "execution_count": 31,
   "id": "be9a713c-2847-445f-b3ce-692b50512386",
   "metadata": {},
   "outputs": [],
   "source": [
    "# Предсказания\n",
    "X_with_bias = np.c_[np.ones(X.shape[0]), X]\n",
    "probabilities = sigmoid(X_with_bias @ w)\n",
    "y_pred = (probabilities >= 0.5).astype(int)"
   ]
  },
  {
   "cell_type": "code",
   "execution_count": 32,
   "id": "7c953439-a18a-4903-9b46-8c2bcf39ff8a",
   "metadata": {},
   "outputs": [
    {
     "name": "stdout",
     "output_type": "stream",
     "text": [
      "Точность: 0.9300\n"
     ]
    }
   ],
   "source": [
    "# Точность\n",
    "accuracy = np.mean(y_pred == y)\n",
    "print(f\"Точность: {accuracy:.4f}\")"
   ]
  },
  {
   "cell_type": "code",
   "execution_count": null,
   "id": "4b4a614c-85dc-45bc-a20b-87a940dbceb1",
   "metadata": {},
   "outputs": [],
   "source": [
    "# Визуализация\n",
    "plt.figure(figsize=(12, 5))\n",
    "\n",
    "# График 1: Данные и разделяющая линия\n",
    "plt.subplot(1, 2, 1)\n",
    "plt.scatter(X[y == 0][:, 0], X[y == 0][:, 1], color='red', label='Класс 0')\n",
    "plt.scatter(X[y == 1][:, 0], X[y == 1][:, 1], color='blue', label='Класс 1')\n",
    "\n",
    "# Разделяющая линия: w_0 + w_1 x_1 + w_2 x_2 = 0\n",
    "x1 = np.linspace(X[:, 0].min(), X[:, 0].max(), 100)\n",
    "x2 = -(w[0] + w[1] * x1) / w[2]\n",
    "plt.plot(x1, x2, color='green', label='Разделяющая линия')\n",
    "plt.xlabel('x1')\n",
    "plt.ylabel('x2')\n",
    "plt.title('Логистическая регрессия')\n",
    "plt.legend()\n",
    "\n",
    "# График 2: Функция потерь\n",
    "plt.subplot(1, 2, 2)\n",
    "plt.plot(losses)\n",
    "plt.xlabel('Итерация')\n",
    "plt.ylabel('Log Loss')\n",
    "plt.title('Изменение функции потерь')\n",
    "plt.show()"
   ]
  },
  {
   "cell_type": "markdown",
   "id": "bed5c904-fd17-4b7e-8137-e3a2077716bb",
   "metadata": {},
   "source": [
    "# Логистическая регрессия с scikit-learn"
   ]
  },
  {
   "cell_type": "code",
   "execution_count": 35,
   "id": "3877768b-c7fe-482a-ad17-05ebd544e311",
   "metadata": {},
   "outputs": [],
   "source": [
    "from sklearn.linear_model import LogisticRegression"
   ]
  },
  {
   "cell_type": "code",
   "execution_count": 36,
   "id": "babc8cba-bd5d-4b5b-b12d-d14ab68dfbfc",
   "metadata": {},
   "outputs": [
    {
     "data": {
      "text/html": [
       "<style>#sk-container-id-1 {color: black;}#sk-container-id-1 pre{padding: 0;}#sk-container-id-1 div.sk-toggleable {background-color: white;}#sk-container-id-1 label.sk-toggleable__label {cursor: pointer;display: block;width: 100%;margin-bottom: 0;padding: 0.3em;box-sizing: border-box;text-align: center;}#sk-container-id-1 label.sk-toggleable__label-arrow:before {content: \"▸\";float: left;margin-right: 0.25em;color: #696969;}#sk-container-id-1 label.sk-toggleable__label-arrow:hover:before {color: black;}#sk-container-id-1 div.sk-estimator:hover label.sk-toggleable__label-arrow:before {color: black;}#sk-container-id-1 div.sk-toggleable__content {max-height: 0;max-width: 0;overflow: hidden;text-align: left;background-color: #f0f8ff;}#sk-container-id-1 div.sk-toggleable__content pre {margin: 0.2em;color: black;border-radius: 0.25em;background-color: #f0f8ff;}#sk-container-id-1 input.sk-toggleable__control:checked~div.sk-toggleable__content {max-height: 200px;max-width: 100%;overflow: auto;}#sk-container-id-1 input.sk-toggleable__control:checked~label.sk-toggleable__label-arrow:before {content: \"▾\";}#sk-container-id-1 div.sk-estimator input.sk-toggleable__control:checked~label.sk-toggleable__label {background-color: #d4ebff;}#sk-container-id-1 div.sk-label input.sk-toggleable__control:checked~label.sk-toggleable__label {background-color: #d4ebff;}#sk-container-id-1 input.sk-hidden--visually {border: 0;clip: rect(1px 1px 1px 1px);clip: rect(1px, 1px, 1px, 1px);height: 1px;margin: -1px;overflow: hidden;padding: 0;position: absolute;width: 1px;}#sk-container-id-1 div.sk-estimator {font-family: monospace;background-color: #f0f8ff;border: 1px dotted black;border-radius: 0.25em;box-sizing: border-box;margin-bottom: 0.5em;}#sk-container-id-1 div.sk-estimator:hover {background-color: #d4ebff;}#sk-container-id-1 div.sk-parallel-item::after {content: \"\";width: 100%;border-bottom: 1px solid gray;flex-grow: 1;}#sk-container-id-1 div.sk-label:hover label.sk-toggleable__label {background-color: #d4ebff;}#sk-container-id-1 div.sk-serial::before {content: \"\";position: absolute;border-left: 1px solid gray;box-sizing: border-box;top: 0;bottom: 0;left: 50%;z-index: 0;}#sk-container-id-1 div.sk-serial {display: flex;flex-direction: column;align-items: center;background-color: white;padding-right: 0.2em;padding-left: 0.2em;position: relative;}#sk-container-id-1 div.sk-item {position: relative;z-index: 1;}#sk-container-id-1 div.sk-parallel {display: flex;align-items: stretch;justify-content: center;background-color: white;position: relative;}#sk-container-id-1 div.sk-item::before, #sk-container-id-1 div.sk-parallel-item::before {content: \"\";position: absolute;border-left: 1px solid gray;box-sizing: border-box;top: 0;bottom: 0;left: 50%;z-index: -1;}#sk-container-id-1 div.sk-parallel-item {display: flex;flex-direction: column;z-index: 1;position: relative;background-color: white;}#sk-container-id-1 div.sk-parallel-item:first-child::after {align-self: flex-end;width: 50%;}#sk-container-id-1 div.sk-parallel-item:last-child::after {align-self: flex-start;width: 50%;}#sk-container-id-1 div.sk-parallel-item:only-child::after {width: 0;}#sk-container-id-1 div.sk-dashed-wrapped {border: 1px dashed gray;margin: 0 0.4em 0.5em 0.4em;box-sizing: border-box;padding-bottom: 0.4em;background-color: white;}#sk-container-id-1 div.sk-label label {font-family: monospace;font-weight: bold;display: inline-block;line-height: 1.2em;}#sk-container-id-1 div.sk-label-container {text-align: center;}#sk-container-id-1 div.sk-container {/* jupyter's `normalize.less` sets `[hidden] { display: none; }` but bootstrap.min.css set `[hidden] { display: none !important; }` so we also need the `!important` here to be able to override the default hidden behavior on the sphinx rendered scikit-learn.org. See: https://github.com/scikit-learn/scikit-learn/issues/21755 */display: inline-block !important;position: relative;}#sk-container-id-1 div.sk-text-repr-fallback {display: none;}</style><div id=\"sk-container-id-1\" class=\"sk-top-container\"><div class=\"sk-text-repr-fallback\"><pre>LogisticRegression(max_iter=1000)</pre><b>In a Jupyter environment, please rerun this cell to show the HTML representation or trust the notebook. <br />On GitHub, the HTML representation is unable to render, please try loading this page with nbviewer.org.</b></div><div class=\"sk-container\" hidden><div class=\"sk-item\"><div class=\"sk-estimator sk-toggleable\"><input class=\"sk-toggleable__control sk-hidden--visually\" id=\"sk-estimator-id-1\" type=\"checkbox\" checked><label for=\"sk-estimator-id-1\" class=\"sk-toggleable__label sk-toggleable__label-arrow\">LogisticRegression</label><div class=\"sk-toggleable__content\"><pre>LogisticRegression(max_iter=1000)</pre></div></div></div></div></div>"
      ],
      "text/plain": [
       "LogisticRegression(max_iter=1000)"
      ]
     },
     "execution_count": 36,
     "metadata": {},
     "output_type": "execute_result"
    }
   ],
   "source": [
    "model = LogisticRegression(solver='lbfgs', max_iter=1000)\n",
    "model.fit(X, y)"
   ]
  },
  {
   "cell_type": "code",
   "execution_count": 38,
   "id": "5e5640b4-01fb-4d14-8f7b-b983bd32f366",
   "metadata": {},
   "outputs": [
    {
     "name": "stdout",
     "output_type": "stream",
     "text": [
      "Параметры: w_0 = 1.6467, w_1 = 2.7431, w_2 = -2.9341\n"
     ]
    }
   ],
   "source": [
    "# Параметры\n",
    "print(f\"Параметры: w_0 = {model.intercept_[0]:.4f}, w_1 = {model.coef_[0, 0]:.4f}, w_2 = {model.coef_[0, 1]:.4f}\")"
   ]
  },
  {
   "cell_type": "code",
   "execution_count": 41,
   "id": "4306d5cf-4fd1-4250-8384-84863cbb9576",
   "metadata": {},
   "outputs": [
    {
     "name": "stdout",
     "output_type": "stream",
     "text": [
      "Точность 0.9000\n"
     ]
    }
   ],
   "source": [
    "# Предсказания\n",
    "y_pred = model.predict(X)\n",
    "accuracy = np.mean(y_pred == y)\n",
    "print(f\"Точность {accuracy:.4f}\")"
   ]
  },
  {
   "cell_type": "code",
   "execution_count": 42,
   "id": "2921d157-3e4b-4786-a80b-e352f3999daa",
   "metadata": {},
   "outputs": [
    {
     "data": {
      "image/png": "[encoded data removed]",
      "text/plain": [
       "<Figure size 1200x500 with 2 Axes>"
      ]
     },
     "metadata": {},
     "output_type": "display_data"
    }
   ],
   "source": [
    "# Визуализация\n",
    "plt.figure(figsize=(12, 5))\n",
    "\n",
    "plt.subplot(1, 2, 1)\n",
    "plt.scatter(X[y == 0][:, 0], X[y == 0][:, 1], color='red', label='Класс 0')\n",
    "plt.scatter(X[y == 1][:, 0], X[y == 1][:, 1], color='blue', label='Класс 1')\n",
    "\n",
    "# Разделяющая линия\n",
    "x1 = np.linspace(X[:, 0].min(), X[:, 0].max(), 100)\n",
    "x2 = -(model.intercept_[0] + model.coef_[0, 0] * x1) / model.coef_[0, 1]\n",
    "plt.plot(x1, x2, color='green', label='Разделяющая линия')\n",
    "plt.xlabel('x1')\n",
    "plt.ylabel('x2')\n",
    "plt.title('Логистическая регрессия (scikit-learn)')\n",
    "plt.legend()\n",
    "\n",
    "plt.subplot(1, 2, 2)\n",
    "probabilities_sklearn = model.predict_proba(X)[:, 1]\n",
    "plt.hist(probabilities_sklearn[y == 0], bins=20, alpha=0.5, color='red', label='Класс 0')\n",
    "plt.hist(probabilities_sklearn[y == 1], bins=20, alpha=0.5, color='blue', label='Класс 1')\n",
    "plt.xlabel('Предсказанная вероятность класса 1')\n",
    "plt.ylabel('Частота')\n",
    "plt.title('Распределение вероятностей')\n",
    "plt.legend()\n",
    "plt.show()"
   ]
  },
  {
   "cell_type": "markdown",
   "id": "f61f341d-e17f-483c-9baa-8785d8653c1f",
   "metadata": {},
   "source": [
    "# Логистическая регрессия с регуляризацией"
   ]
  },
  {
   "cell_type": "code",
   "execution_count": 8,
   "id": "0440f9dd-4107-493e-a019-c71fad2c59b4",
   "metadata": {},
   "outputs": [],
   "source": [
    "import numpy as np\n",
    "import matplotlib.pyplot as plt\n",
    "from sklearn.datasets import load_breast_cancer\n",
    "from sklearn.model_selection import train_test_split\n",
    "from sklearn.preprocessing import StandardScaler\n",
    "from sklearn.linear_model import LogisticRegression\n",
    "from sklearn.metrics import accuracy_score, classification_report"
   ]
  },
  {
   "cell_type": "code",
   "execution_count": 9,
   "id": "7e8a8222-ecd4-4cef-a023-a798213e2848",
   "metadata": {},
   "outputs": [],
   "source": [
    "data = load_breast_cancer()\n",
    "X = data.data\n",
    "y = data.target"
   ]
  },
  {
   "cell_type": "code",
   "execution_count": 10,
   "id": "6e141e85-59bd-47ab-addd-5ff7e8024f5a",
   "metadata": {},
   "outputs": [
    {
     "name": "stdout",
     "output_type": "stream",
     "text": [
      "Размер обучающей выборки: (398, 30)\n",
      "Размер тестовой выборки: (171, 30)\n"
     ]
    }
   ],
   "source": [
    "X_train, X_test, y_train, y_test = train_test_split(X, y, test_size=0.3, random_state=42)\n",
    "\n",
    "scaler = StandardScaler()\n",
    "X_train = scaler.fit_transform(X_train)\n",
    "X_test = scaler.transform(X_test)\n",
    "\n",
    "print(f'Размер обучающей выборки: {X_train.shape}')\n",
    "print(f'Размер тестовой выборки: {X_test.shape}')"
   ]
  },
  {
   "cell_type": "code",
   "execution_count": 14,
   "id": "a24ae6c5-a379-4f2c-b5ec-4b90357a1545",
   "metadata": {},
   "outputs": [
    {
     "name": "stdout",
     "output_type": "stream",
     "text": [
      "Точность на обучающей выборке: 0.9874\n",
      "Точность на тестовой выборке: 0.9825\n",
      "\n",
      "Классификационный отчёт (тестовая выборка):\n",
      "                   precision    recall  f1-score   support\n",
      "\n",
      "Доброкачественная       0.97      0.98      0.98        63\n",
      "  Злокачественная       0.99      0.98      0.99       108\n",
      "\n",
      "         accuracy                           0.98       171\n",
      "        macro avg       0.98      0.98      0.98       171\n",
      "     weighted avg       0.98      0.98      0.98       171\n",
      "\n"
     ]
    }
   ],
   "source": [
    "# модель без регуляризации\n",
    "model = LogisticRegression(solver=\"lbfgs\", max_iter=1000)\n",
    "model.fit(X_train, y_train)\n",
    "\n",
    "# предсказания\n",
    "y_pred_tain = model.predict(X_train)\n",
    "y_pred_test = model.predict(X_test)\n",
    "\n",
    "# оценка\n",
    "print(f'Точность на обучающей выборке: {accuracy_score(y_train, y_pred_tain):.4f}')\n",
    "print(f'Точность на тестовой выборке: {accuracy_score(y_test, y_pred_test):.4f}')\n",
    "print('\\nКлассификационный отчёт (тестовая выборка):')\n",
    "print(classification_report(y_test, y_pred_test, target_names=['Доброкачественная', 'Злокачественная']))"
   ]
  },
  {
   "cell_type": "markdown",
   "id": "879dddd8-57ab-4cdd-bfe7-63d20bfc9a8a",
   "metadata": {},
   "source": [
    "### L2 - регуляризация (Ridge)\n",
    "L2 - регуляризация добавляет штраф на сумму квадратов весов:\n",
    "$$ J(w) = -\\frac{1}{n}\\sum^{n}_{i=1}[y_{i}\\log(\\hat{p_{i}}) + (1 - y_{i})\\log{(1 - \\hat{p_{i}})}] + \\frac{1}{C}\\sum^{k}_{j=1}w^{2}_{j} $$\n",
    "$ \\frac{1}{C} $ - коэффициент регуляризации (меньше С, сильнее регуляризация)."
   ]
  },
  {
   "cell_type": "code",
   "execution_count": 15,
   "id": "5b3ad098-6a1a-4dc8-babf-3027f382eb95",
   "metadata": {},
   "outputs": [
    {
     "name": "stdout",
     "output_type": "stream",
     "text": [
      "L2-регуляризация:\n",
      "Точность на обучающей выборке: 0.9874\n",
      "Точность на тестовой выборке: 0.9825\n",
      "\n",
      "Классификационный отчёт (тестовая выборка):\n",
      "                   precision    recall  f1-score   support\n",
      "\n",
      "Доброкачественная       0.97      0.98      0.98        63\n",
      "  Злокачественная       0.99      0.98      0.99       108\n",
      "\n",
      "         accuracy                           0.98       171\n",
      "        macro avg       0.98      0.98      0.98       171\n",
      "     weighted avg       0.98      0.98      0.98       171\n",
      "\n"
     ]
    }
   ],
   "source": [
    "# модель с регуляризацией\n",
    "model_l2 = LogisticRegression(penalty='l2', C=1.0, solver='lbfgs', max_iter=1000)\n",
    "model_l2.fit(X_train, y_train)\n",
    "\n",
    "\n",
    "# предсказания\n",
    "y_pred_train_l2 = model_l2.predict(X_train)\n",
    "y_pred_test_l2 = model_l2.predict(X_test)\n",
    "\n",
    "# оценка\n",
    "print(\"L2-регуляризация:\")\n",
    "print(f'Точность на обучающей выборке: {accuracy_score(y_train, y_pred_train_l2):.4f}')\n",
    "print(f'Точность на тестовой выборке: {accuracy_score(y_test, y_pred_test_l2):.4f}')\n",
    "print('\\nКлассификационный отчёт (тестовая выборка):')\n",
    "print(classification_report(y_test, y_pred_test_l2, target_names=['Доброкачественная', 'Злокачественная']))"
   ]
  },
  {
   "cell_type": "markdown",
   "id": "d9d087d7-6ed0-4f20-8f24-b361feb679ce",
   "metadata": {},
   "source": [
    "### L1-регуляризация (Lasso)\n",
    "$$ J(w) = -\\frac{1}{n}[y_{i}\\log{(\\hat{p_{i}})} + (1 - y_{i})\\log{(1 - \\hat{p_{i}})}] + \\frac{1}{C}\\sum^{k}_{j=1}|w_{j}| $$\n",
    "L1-регуляризация может обнулять некоторые веса, что плезно для отбора признаков."
   ]
  },
  {
   "cell_type": "code",
   "execution_count": 17,
   "id": "35d572d0-565d-44fe-bbcf-423a6b4f14c8",
   "metadata": {},
   "outputs": [
    {
     "name": "stdout",
     "output_type": "stream",
     "text": [
      "L1-регуляризация:\n",
      "Точность на обучающей выборке: 0.9874\n",
      "Точность на тестовой выборке: 0.9825\n",
      "\n",
      "Классификационный отчёт (тестовая выборка):\n",
      "                   precision    recall  f1-score   support\n",
      "\n",
      "Доброкачественная       0.97      0.98      0.98        63\n",
      "  Злокачественная       0.99      0.98      0.99       108\n",
      "\n",
      "         accuracy                           0.98       171\n",
      "        macro avg       0.98      0.98      0.98       171\n",
      "     weighted avg       0.98      0.98      0.98       171\n",
      "\n"
     ]
    }
   ],
   "source": [
    "# Логистическая регрессия c L1-регуляризацией\n",
    "model_l1 = LogisticRegression(penalty=\"l1\", C=1.0, solver=\"liblinear\", max_iter=1000)\n",
    "model_l1.fit(X_train, y_train)\n",
    "\n",
    "# предсказания\n",
    "y_pred_train_l1 = model_l1.predict(X_train)\n",
    "y_pred_test_l1 = model_l1.predict(X_test)\n",
    "\n",
    "# Оценка\n",
    "print(\"L1-регуляризация:\")\n",
    "print(f'Точность на обучающей выборке: {accuracy_score(y_train, y_pred_train_l1):.4f}')\n",
    "print(f'Точность на тестовой выборке: {accuracy_score(y_test, y_pred_test_l1):.4f}')\n",
    "print('\\nКлассификационный отчёт (тестовая выборка):')\n",
    "print(classification_report(y_test, y_pred_test_l1, target_names=['Доброкачественная', 'Злокачественная']))"
   ]
  },
  {
   "cell_type": "code",
   "execution_count": 18,
   "id": "8d1ef20e-46ec-4508-9aee-98d9a556a2fe",
   "metadata": {},
   "outputs": [
    {
     "data": {
      "image/png": "[encoded data removed]",
      "text/plain": [
       "<Figure size 1000x500 with 2 Axes>"
      ]
     },
     "metadata": {},
     "output_type": "display_data"
    }
   ],
   "source": [
    "plt.figure(figsize=(10, 5))\n",
    "plt.subplot(1, 2, 1)\n",
    "plt.bar(range(len(model_l2.coef_[0])), model_l2.coef_[0], color='blue')\n",
    "plt.title('Веса (L2-регуляризация)')\n",
    "plt.xlabel('Признак')\n",
    "plt.ylabel('Вес')\n",
    "\n",
    "plt.subplot(1, 2, 2)\n",
    "plt.bar(range(len(model_l1.coef_[0])), model_l1.coef_[0], color='green')\n",
    "plt.title('Веса (L1-регуляризация)')\n",
    "plt.xlabel('Признак')\n",
    "plt.ylabel('Вес')\n",
    "plt.tight_layout()\n",
    "plt.show()"
   ]
  },
  {
   "cell_type": "code",
   "execution_count": null,
   "id": "685ced10-ef4e-46c0-9082-3cdd26edcaec",
   "metadata": {},
   "outputs": [],
   "source": []
  }
 ],
 "metadata": {
  "kernelspec": {
   "display_name": "Python 3 (ipykernel)",
   "language": "python",
   "name": "python3"
  },
  "language_info": {
   "codemirror_mode": {
    "name": "ipython",
    "version": 3
   },
   "file_extension": ".py",
   "mimetype": "text/x-python",
   "name": "python",
   "nbconvert_exporter": "python",
   "pygments_lexer": "ipython3",
   "version": "3.13.1"
  }
 },
 "nbformat": 4,
 "nbformat_minor": 5
}
