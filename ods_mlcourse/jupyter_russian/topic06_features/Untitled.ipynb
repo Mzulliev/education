{
 "cells": [
  {
   "cell_type": "code",
   "execution_count": 21,
   "id": "26b672c4-2e24-41b6-9fec-c793679dfc81",
   "metadata": {
    "scrolled": true
   },
   "outputs": [
    {
     "name": "stdout",
     "output_type": "stream",
     "text": [
      "[1. 1. 1. 0. 0. 0. 1.]\n",
      "[0. 1. 1. 1. 0. 1. 0.]\n",
      "[1. 2. 1. 1. 2. 1. 1.]\n"
     ]
    }
   ],
   "source": [
    "from functools import reduce\n",
    "import numpy as np\n",
    "\n",
    "texts = [['i', 'have', 'a', 'cat'],\n",
    "         ['he', 'have', 'a', 'dog'],\n",
    "         ['he', 'and', 'i', 'have', 'a', 'cat', 'and', 'a', 'dog']]\n",
    "\n",
    "dictionary = list(enumerate(set(list(reduce(lambda x, y: x + y, texts)))))\n",
    "\n",
    "def vectorize(text):\n",
    "    vector = np.zeros(len(dictionary))\n",
    "    for i, word in dictionary:\n",
    "        num = 0\n",
    "        for w in text:\n",
    "            if w == word:\n",
    "                num += 1\n",
    "        if num:\n",
    "            vector[i] = num\n",
    "    return vector\n",
    "\n",
    "for t in texts:\n",
    "    print(vectorize(t))"
   ]
  },
  {
   "cell_type": "code",
   "execution_count": 22,
   "id": "b9ffdc0c-4a85-43c4-94b6-6caccac6c9c4",
   "metadata": {},
   "outputs": [
    {
     "data": {
      "text/plain": [
       "[(0, 'i'),\n",
       " (1, 'a'),\n",
       " (2, 'have'),\n",
       " (3, 'dog'),\n",
       " (4, 'and'),\n",
       " (5, 'he'),\n",
       " (6, 'cat')]"
      ]
     },
     "execution_count": 22,
     "metadata": {},
     "output_type": "execute_result"
    }
   ],
   "source": [
    "dictionary"
   ]
  },
  {
   "cell_type": "code",
   "execution_count": null,
   "id": "3cd6b07f-abfd-4437-8876-1c0f91559492",
   "metadata": {},
   "outputs": [],
   "source": []
  },
  {
   "cell_type": "code",
   "execution_count": null,
   "id": "e0a5c5f7-52b9-453c-9041-0fd9871ed12a",
   "metadata": {},
   "outputs": [],
   "source": []
  }
 ],
 "metadata": {
  "kernelspec": {
   "display_name": "Python 3 (ipykernel)",
   "language": "python",
   "name": "python3"
  },
  "language_info": {
   "codemirror_mode": {
    "name": "ipython",
    "version": 3
   },
   "file_extension": ".py",
   "mimetype": "text/x-python",
   "name": "python",
   "nbconvert_exporter": "python",
   "pygments_lexer": "ipython3",
   "version": "3.10.17"
  }
 },
 "nbformat": 4,
 "nbformat_minor": 5
}
