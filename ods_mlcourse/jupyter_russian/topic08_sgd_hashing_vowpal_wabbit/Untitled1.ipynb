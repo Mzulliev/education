{
 "cells": [
  {
   "cell_type": "code",
   "execution_count": 3,
   "id": "8b175521-a9ed-4671-85c5-8ef180e13a18",
   "metadata": {},
   "outputs": [],
   "source": [
    "from sklearn.datasets import load_files\n",
    "import os"
   ]
  },
  {
   "cell_type": "code",
   "execution_count": 8,
   "id": "8335da25-4a6a-4142-8723-5cdaa9661909",
   "metadata": {},
   "outputs": [],
   "source": [
    "PATH_TO_DATA = '/Users/mzulliev/education/ods_mlcourse/data/aclImdb'"
   ]
  },
  {
   "cell_type": "code",
   "execution_count": 9,
   "id": "6df8efd1-20ba-4cc5-a7a8-da33c9f5118f",
   "metadata": {},
   "outputs": [
    {
     "name": "stdout",
     "output_type": "stream",
     "text": [
      "487M\t/Users/mzulliev/education/ods_mlcourse/data/aclImdb\n"
     ]
    }
   ],
   "source": [
    "!du -hs $PATH_TO_DATA"
   ]
  },
  {
   "cell_type": "code",
   "execution_count": 10,
   "id": "45f2c0af-f76c-48c8-89b8-94b512f54ad1",
   "metadata": {},
   "outputs": [
    {
     "name": "stdout",
     "output_type": "stream",
     "text": [
      "365M\t/Users/mzulliev/education/ods_mlcourse/data/aclImdb/train\n",
      "121M\t/Users/mzulliev/education/ods_mlcourse/data/aclImdb/test\n"
     ]
    }
   ],
   "source": [
    "!du -hs $PATH_TO_DATA/train\n",
    "!du -hs $PATH_TO_DATA/test"
   ]
  },
  {
   "cell_type": "code",
   "execution_count": 20,
   "id": "2c141fc8-273b-4073-adb7-b7f5d442a86d",
   "metadata": {},
   "outputs": [
    {
     "name": "stdout",
     "output_type": "stream",
     "text": [
      "CPU times: user 483 ms, sys: 1.37 s, total: 1.86 s\n",
      "Wall time: 7.95 s\n"
     ]
    }
   ],
   "source": [
    "%%time\n",
    "train_reviews = load_files(os.path.join(PATH_TO_DATA, 'train'))"
   ]
  },
  {
   "cell_type": "code",
   "execution_count": 21,
   "id": "425c9214-4097-45c9-9f89-e7a3ce783b69",
   "metadata": {},
   "outputs": [
    {
     "name": "stdout",
     "output_type": "stream",
     "text": [
      "CPU times: user 158 ms, sys: 424 ms, total: 582 ms\n",
      "Wall time: 2.56 s\n"
     ]
    }
   ],
   "source": [
    "%%time\n",
    "test_reviews = load_files(os.path.join(PATH_TO_DATA, 'test'))"
   ]
  },
  {
   "cell_type": "code",
   "execution_count": 22,
   "id": "fe14c6e1-57ff-4e7d-96e9-464ef81f190a",
   "metadata": {},
   "outputs": [
    {
     "data": {
      "text/plain": [
       "75000"
      ]
     },
     "execution_count": 22,
     "metadata": {},
     "output_type": "execute_result"
    }
   ],
   "source": [
    "len(train_reviews.data)"
   ]
  },
  {
   "cell_type": "code",
   "execution_count": 24,
   "id": "2114055c-8b01-462c-a298-dc96324a4f2c",
   "metadata": {},
   "outputs": [
    {
     "data": {
      "text/plain": [
       "b'Full of (then) unknown actors TSF is a great big cuddly romp of a film.<br /><br />The idea of a bunch of bored teenagers ripping off the local sink factory is odd enough, but add in the black humour that Forsyth & Co are so good at and your in for a real treat.<br /><br />The comatose van driver by itself worth seeing, and the canal side chase is just too real to be anything but funny.<br /><br />And for anyone who lived in Glasgow it\\'s a great \"Oh I know where that is\" film.'"
      ]
     },
     "execution_count": 24,
     "metadata": {},
     "output_type": "execute_result"
    }
   ],
   "source": [
    "train_reviews.data[0]"
   ]
  },
  {
   "cell_type": "code",
   "execution_count": 25,
   "id": "b5a3466e-5643-491b-a4e2-5e57b60a908a",
   "metadata": {},
   "outputs": [
    {
     "data": {
      "text/plain": [
       "2"
      ]
     },
     "execution_count": 25,
     "metadata": {},
     "output_type": "execute_result"
    }
   ],
   "source": [
    "train_reviews.target[0]"
   ]
  },
  {
   "cell_type": "raw",
   "id": "c65dda73-7718-46ac-a0cd-66fc3fc210e7",
   "metadata": {},
   "source": [
    "BOW - Bag of Words"
   ]
  },
  {
   "cell_type": "code",
   "execution_count": 43,
   "id": "c3f81a47-5378-4529-9e89-6e6a5f44de04",
   "metadata": {},
   "outputs": [],
   "source": [
    "import numpy as np\n",
    "import pandas as pd\n",
    "from scipy.sparse import csr_matrix"
   ]
  },
  {
   "cell_type": "code",
   "execution_count": 44,
   "id": "153bf753-bfd0-4e28-810a-c9d374a39e05",
   "metadata": {},
   "outputs": [],
   "source": [
    "a = np.zeros([5, 5])\n",
    "a[0, 4] = 1\n",
    "a[4, 1] = 5\n",
    "a[2, 3] = 3\n",
    "a[3, 0] = 7\n",
    "a[3, 4] = 1"
   ]
  },
  {
   "cell_type": "code",
   "execution_count": 45,
   "id": "5ecc84a6-7555-4fbf-853e-600303515336",
   "metadata": {},
   "outputs": [
    {
     "data": {
      "text/plain": [
       "array([[0., 0., 0., 0., 1.],\n",
       "       [0., 0., 0., 0., 0.],\n",
       "       [0., 0., 0., 3., 0.],\n",
       "       [7., 0., 0., 0., 1.],\n",
       "       [0., 5., 0., 0., 0.]])"
      ]
     },
     "execution_count": 45,
     "metadata": {},
     "output_type": "execute_result"
    }
   ],
   "source": [
    "a"
   ]
  },
  {
   "cell_type": "code",
   "execution_count": 47,
   "id": "5d005084-80ba-4887-a4f7-f3353bf168ea",
   "metadata": {},
   "outputs": [
    {
     "data": {
      "text/html": [
       "<div>\n",
       "<style scoped>\n",
       "    .dataframe tbody tr th:only-of-type {\n",
       "        vertical-align: middle;\n",
       "    }\n",
       "\n",
       "    .dataframe tbody tr th {\n",
       "        vertical-align: top;\n",
       "    }\n",
       "\n",
       "    .dataframe thead th {\n",
       "        text-align: right;\n",
       "    }\n",
       "</style>\n",
       "<table border=\"1\" class=\"dataframe\">\n",
       "  <thead>\n",
       "    <tr style=\"text-align: right;\">\n",
       "      <th></th>\n",
       "      <th>apple</th>\n",
       "      <th>wax</th>\n",
       "      <th>sadness</th>\n",
       "      <th>luck</th>\n",
       "      <th>girl</th>\n",
       "    </tr>\n",
       "  </thead>\n",
       "  <tbody>\n",
       "    <tr>\n",
       "      <th>0</th>\n",
       "      <td>0.0</td>\n",
       "      <td>0.0</td>\n",
       "      <td>0.0</td>\n",
       "      <td>0.0</td>\n",
       "      <td>1.0</td>\n",
       "    </tr>\n",
       "    <tr>\n",
       "      <th>1</th>\n",
       "      <td>0.0</td>\n",
       "      <td>0.0</td>\n",
       "      <td>0.0</td>\n",
       "      <td>0.0</td>\n",
       "      <td>0.0</td>\n",
       "    </tr>\n",
       "    <tr>\n",
       "      <th>2</th>\n",
       "      <td>0.0</td>\n",
       "      <td>0.0</td>\n",
       "      <td>0.0</td>\n",
       "      <td>3.0</td>\n",
       "      <td>0.0</td>\n",
       "    </tr>\n",
       "    <tr>\n",
       "      <th>3</th>\n",
       "      <td>7.0</td>\n",
       "      <td>0.0</td>\n",
       "      <td>0.0</td>\n",
       "      <td>0.0</td>\n",
       "      <td>1.0</td>\n",
       "    </tr>\n",
       "    <tr>\n",
       "      <th>4</th>\n",
       "      <td>0.0</td>\n",
       "      <td>5.0</td>\n",
       "      <td>0.0</td>\n",
       "      <td>0.0</td>\n",
       "      <td>0.0</td>\n",
       "    </tr>\n",
       "  </tbody>\n",
       "</table>\n",
       "</div>"
      ],
      "text/plain": [
       "   apple  wax  sadness  luck  girl\n",
       "0    0.0  0.0      0.0   0.0   1.0\n",
       "1    0.0  0.0      0.0   0.0   0.0\n",
       "2    0.0  0.0      0.0   3.0   0.0\n",
       "3    7.0  0.0      0.0   0.0   1.0\n",
       "4    0.0  5.0      0.0   0.0   0.0"
      ]
     },
     "execution_count": 47,
     "metadata": {},
     "output_type": "execute_result"
    }
   ],
   "source": [
    "pd.DataFrame(a, columns=['apple', 'wax', 'sadness', 'luck', 'girl'])"
   ]
  },
  {
   "cell_type": "code",
   "execution_count": 48,
   "id": "8ff6c041-cfd8-43ec-ae18-db9c0f3b17ed",
   "metadata": {},
   "outputs": [],
   "source": [
    "b = csr_matrix(a)"
   ]
  },
  {
   "cell_type": "code",
   "execution_count": 49,
   "id": "ecb325b0-bf44-4253-a151-c13d697c2d5d",
   "metadata": {},
   "outputs": [
    {
     "data": {
      "text/plain": [
       "<Compressed Sparse Row sparse matrix of dtype 'float64'\n",
       "\twith 5 stored elements and shape (5, 5)>"
      ]
     },
     "execution_count": 49,
     "metadata": {},
     "output_type": "execute_result"
    }
   ],
   "source": [
    "b"
   ]
  },
  {
   "cell_type": "code",
   "execution_count": 50,
   "id": "9c35d434-51e0-450f-aafa-476cb338886f",
   "metadata": {},
   "outputs": [
    {
     "data": {
      "text/plain": [
       "matrix([[0., 0., 0., 0., 1.],\n",
       "        [0., 0., 0., 0., 0.],\n",
       "        [0., 0., 0., 3., 0.],\n",
       "        [7., 0., 0., 0., 1.],\n",
       "        [0., 5., 0., 0., 0.]])"
      ]
     },
     "execution_count": 50,
     "metadata": {},
     "output_type": "execute_result"
    }
   ],
   "source": [
    "b.todense()"
   ]
  },
  {
   "cell_type": "code",
   "execution_count": 51,
   "id": "c5a87e39-f9f9-4d12-a85d-3e180965a2bd",
   "metadata": {},
   "outputs": [
    {
     "data": {
      "text/plain": [
       "(array([0, 2, 3, 3, 4], dtype=int32), array([4, 3, 0, 4, 1], dtype=int32))"
      ]
     },
     "execution_count": 51,
     "metadata": {},
     "output_type": "execute_result"
    }
   ],
   "source": [
    "b.nonzero()"
   ]
  },
  {
   "cell_type": "code",
   "execution_count": 52,
   "id": "0b30c13f-f38d-451b-b7d9-9ccd4ff402ae",
   "metadata": {},
   "outputs": [
    {
     "data": {
      "text/plain": [
       "array([1., 3., 7., 1., 5.])"
      ]
     },
     "execution_count": 52,
     "metadata": {},
     "output_type": "execute_result"
    }
   ],
   "source": [
    "b.data"
   ]
  },
  {
   "cell_type": "code",
   "execution_count": 53,
   "id": "4dac317c-c9f3-4a05-816f-158841b0b4a6",
   "metadata": {},
   "outputs": [],
   "source": [
    "from sklearn.feature_extraction.text import CountVectorizer"
   ]
  },
  {
   "cell_type": "code",
   "execution_count": 60,
   "id": "2af02559-d965-48f6-be6f-1308bc76efda",
   "metadata": {},
   "outputs": [
    {
     "name": "stdout",
     "output_type": "stream",
     "text": [
      "CPU times: user 4.75 s, sys: 166 ms, total: 4.92 s\n",
      "Wall time: 5.5 s\n"
     ]
    }
   ],
   "source": [
    "%%time\n",
    "cv = CountVectorizer()\n",
    "X_train_sparse = cv.fit_transform(train_reviews.data)"
   ]
  },
  {
   "cell_type": "code",
   "execution_count": 61,
   "id": "b488e9ab-137a-4a6d-9543-10e78aca2a95",
   "metadata": {},
   "outputs": [
    {
     "data": {
      "text/plain": [
       "124255"
      ]
     },
     "execution_count": 61,
     "metadata": {},
     "output_type": "execute_result"
    }
   ],
   "source": [
    "len(cv.vocabulary_)"
   ]
  },
  {
   "cell_type": "code",
   "execution_count": 62,
   "id": "6bc16ef9-ccdb-45de-b260-d6b76061bd3c",
   "metadata": {},
   "outputs": [],
   "source": [
    "X_test_sparse = cv.transform(test_reviews.data)"
   ]
  },
  {
   "cell_type": "code",
   "execution_count": 63,
   "id": "311afeac-2596-474a-b92d-17d4421fefcb",
   "metadata": {},
   "outputs": [
    {
     "data": {
      "text/plain": [
       "((75000, 124255), (25000, 124255))"
      ]
     },
     "execution_count": 63,
     "metadata": {},
     "output_type": "execute_result"
    }
   ],
   "source": [
    "X_train_sparse.shape, X_test_sparse.shape"
   ]
  },
  {
   "cell_type": "code",
   "execution_count": 64,
   "id": "c68a75a2-2e57-47d2-93d2-d5bf46ef3050",
   "metadata": {},
   "outputs": [
    {
     "data": {
      "text/plain": [
       "<Compressed Sparse Row sparse matrix of dtype 'int64'\n",
       "\twith 10359806 stored elements and shape (75000, 124255)>"
      ]
     },
     "execution_count": 64,
     "metadata": {},
     "output_type": "execute_result"
    }
   ],
   "source": [
    "X_train_sparse"
   ]
  },
  {
   "cell_type": "code",
   "execution_count": null,
   "id": "8fcce156-9c3d-4835-ad0a-dc95c677af1d",
   "metadata": {},
   "outputs": [],
   "source": []
  }
 ],
 "metadata": {
  "kernelspec": {
   "display_name": "Python 3 (ipykernel)",
   "language": "python",
   "name": "python3"
  },
  "language_info": {
   "codemirror_mode": {
    "name": "ipython",
    "version": 3
   },
   "file_extension": ".py",
   "mimetype": "text/x-python",
   "name": "python",
   "nbconvert_exporter": "python",
   "pygments_lexer": "ipython3",
   "version": "3.10.17"
  }
 },
 "nbformat": 4,
 "nbformat_minor": 5
}
